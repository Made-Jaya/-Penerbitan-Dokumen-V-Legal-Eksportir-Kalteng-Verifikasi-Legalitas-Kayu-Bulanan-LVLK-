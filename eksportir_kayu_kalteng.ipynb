{
 "cells": [
  {
   "cell_type": "code",
   "execution_count": 3,
   "metadata": {},
   "outputs": [],
   "source": [
    "from selenium import webdriver\n",
    "import pandas as pd\n",
    "import time\n",
    "from selenium.webdriver.chrome.options import Options"
   ]
  },
  {
   "cell_type": "code",
   "execution_count": 1,
   "metadata": {},
   "outputs": [],
   "source": [
    "chromedriver_location = \"C:/SigmaAI/chromedriver_win32/chromedriver.exe\""
   ]
  },
  {
   "cell_type": "code",
   "execution_count": 4,
   "metadata": {},
   "outputs": [
    {
     "name": "stderr",
     "output_type": "stream",
     "text": [
      "C:\\Users\\madej\\AppData\\Local\\Temp\\ipykernel_7364\\2255847859.py:1: DeprecationWarning: executable_path has been deprecated, please pass in a Service object\n",
      "  driver = webdriver.Chrome(chromedriver_location)\n"
     ]
    }
   ],
   "source": [
    "driver = webdriver.Chrome(chromedriver_location)"
   ]
  },
  {
   "cell_type": "code",
   "execution_count": 5,
   "metadata": {},
   "outputs": [],
   "source": [
    "driver.get(f'https://borneowanaindo.com/?page_id=376')"
   ]
  },
  {
   "cell_type": "code",
   "execution_count": 6,
   "metadata": {},
   "outputs": [],
   "source": [
    "df = pd.DataFrame()"
   ]
  },
  {
   "cell_type": "code",
   "execution_count": 28,
   "metadata": {},
   "outputs": [],
   "source": [
    "tables = []\n",
    "i = 0\n",
    "while True:\n",
    "    try:\n",
    "        table = pd.read_html(driver.page_source)[i]\n",
    "        tables.append(table)\n",
    "        i += 1\n",
    "    except:\n",
    "        break\n",
    "\n",
    "df = pd.concat(tables)"
   ]
  },
  {
   "cell_type": "code",
   "execution_count": 29,
   "metadata": {},
   "outputs": [
    {
     "data": {
      "text/html": [
       "<div>\n",
       "<style scoped>\n",
       "    .dataframe tbody tr th:only-of-type {\n",
       "        vertical-align: middle;\n",
       "    }\n",
       "\n",
       "    .dataframe tbody tr th {\n",
       "        vertical-align: top;\n",
       "    }\n",
       "\n",
       "    .dataframe thead th {\n",
       "        text-align: right;\n",
       "    }\n",
       "</style>\n",
       "<table border=\"1\" class=\"dataframe\">\n",
       "  <thead>\n",
       "    <tr style=\"text-align: right;\">\n",
       "      <th></th>\n",
       "      <th>0</th>\n",
       "      <th>1</th>\n",
       "      <th>2</th>\n",
       "      <th>3</th>\n",
       "      <th>4</th>\n",
       "    </tr>\n",
       "  </thead>\n",
       "  <tbody>\n",
       "    <tr>\n",
       "      <th>0</th>\n",
       "      <td>NO.</td>\n",
       "      <td>AUDITEE</td>\n",
       "      <td>JUMLAH PERMOHONAN DOK. V-LEGAL</td>\n",
       "      <td>HASIL VERIFIKASI</td>\n",
       "      <td>NaN</td>\n",
       "    </tr>\n",
       "    <tr>\n",
       "      <th>1</th>\n",
       "      <td>NaN</td>\n",
       "      <td>NaN</td>\n",
       "      <td>JUMLAH MEMENUHI</td>\n",
       "      <td>JUMLAH TIDAK MEMENUHI</td>\n",
       "      <td>NaN</td>\n",
       "    </tr>\n",
       "    <tr>\n",
       "      <th>2</th>\n",
       "      <td>1.</td>\n",
       "      <td>NIHIL</td>\n",
       "      <td>–</td>\n",
       "      <td>–</td>\n",
       "      <td>–</td>\n",
       "    </tr>\n",
       "    <tr>\n",
       "      <th>0</th>\n",
       "      <td>NO.</td>\n",
       "      <td>AUDITEE</td>\n",
       "      <td>JUMLAH PERMOHONAN DOK. V-LEGAL</td>\n",
       "      <td>HASIL VERIFIKASI</td>\n",
       "      <td>NaN</td>\n",
       "    </tr>\n",
       "    <tr>\n",
       "      <th>1</th>\n",
       "      <td>JUMLAH MEMENUHI</td>\n",
       "      <td>JUMLAH TIDAK MEMENUHI</td>\n",
       "      <td>NaN</td>\n",
       "      <td>NaN</td>\n",
       "      <td>NaN</td>\n",
       "    </tr>\n",
       "    <tr>\n",
       "      <th>...</th>\n",
       "      <td>...</td>\n",
       "      <td>...</td>\n",
       "      <td>...</td>\n",
       "      <td>...</td>\n",
       "      <td>...</td>\n",
       "    </tr>\n",
       "    <tr>\n",
       "      <th>3</th>\n",
       "      <td>3</td>\n",
       "      <td>PT Taiyoung Engreen</td>\n",
       "      <td>32</td>\n",
       "      <td>32</td>\n",
       "      <td>–</td>\n",
       "    </tr>\n",
       "    <tr>\n",
       "      <th>4</th>\n",
       "      <td>4</td>\n",
       "      <td>PT Sumber Mandiri Ababdi</td>\n",
       "      <td>7</td>\n",
       "      <td>7</td>\n",
       "      <td>–</td>\n",
       "    </tr>\n",
       "    <tr>\n",
       "      <th>5</th>\n",
       "      <td>5</td>\n",
       "      <td>PT Nagabhuana Aneka Piranti</td>\n",
       "      <td>8</td>\n",
       "      <td>8</td>\n",
       "      <td>–</td>\n",
       "    </tr>\n",
       "    <tr>\n",
       "      <th>6</th>\n",
       "      <td>6</td>\n",
       "      <td>PT Panca Aras Akselerasi Tov</td>\n",
       "      <td>1</td>\n",
       "      <td>1</td>\n",
       "      <td>–</td>\n",
       "    </tr>\n",
       "    <tr>\n",
       "      <th>7</th>\n",
       "      <td>7</td>\n",
       "      <td>CV Sayap Rajawali Perkasa</td>\n",
       "      <td>2</td>\n",
       "      <td>2</td>\n",
       "      <td>NaN</td>\n",
       "    </tr>\n",
       "  </tbody>\n",
       "</table>\n",
       "<p>135 rows × 5 columns</p>\n",
       "</div>"
      ],
      "text/plain": [
       "                  0                             1  \\\n",
       "0               NO.                       AUDITEE   \n",
       "1               NaN                           NaN   \n",
       "2                1.                         NIHIL   \n",
       "0               NO.                       AUDITEE   \n",
       "1   JUMLAH MEMENUHI         JUMLAH TIDAK MEMENUHI   \n",
       "..              ...                           ...   \n",
       "3                 3           PT Taiyoung Engreen   \n",
       "4                 4      PT Sumber Mandiri Ababdi   \n",
       "5                 5   PT Nagabhuana Aneka Piranti   \n",
       "6                 6  PT Panca Aras Akselerasi Tov   \n",
       "7                 7     CV Sayap Rajawali Perkasa   \n",
       "\n",
       "                                 2                      3    4  \n",
       "0   JUMLAH PERMOHONAN DOK. V-LEGAL       HASIL VERIFIKASI  NaN  \n",
       "1                  JUMLAH MEMENUHI  JUMLAH TIDAK MEMENUHI  NaN  \n",
       "2                                –                      –    –  \n",
       "0   JUMLAH PERMOHONAN DOK. V-LEGAL       HASIL VERIFIKASI  NaN  \n",
       "1                              NaN                    NaN  NaN  \n",
       "..                             ...                    ...  ...  \n",
       "3                               32                     32    –  \n",
       "4                                7                      7    –  \n",
       "5                                8                      8    –  \n",
       "6                                1                      1    –  \n",
       "7                                2                      2  NaN  \n",
       "\n",
       "[135 rows x 5 columns]"
      ]
     },
     "execution_count": 29,
     "metadata": {},
     "output_type": "execute_result"
    }
   ],
   "source": [
    "df"
   ]
  },
  {
   "cell_type": "code",
   "execution_count": 36,
   "metadata": {},
   "outputs": [],
   "source": [
    "df_total = pd.DataFrame()\n",
    "df_total['Auditi'] = df.iloc[:,1]\n",
    "df_total['Jumlah Permohonan'] = df.iloc[:,2]\n",
    "df_total['Verifikasi Memenuhi'] = df.iloc[:,3]"
   ]
  },
  {
   "cell_type": "code",
   "execution_count": 39,
   "metadata": {},
   "outputs": [
    {
     "name": "stdout",
     "output_type": "stream",
     "text": [
      "                                                                    Jumlah Permohonan  \\\n",
      "Auditi                                                                                  \n",
      "AUDITEE                             JUMLAH PERMOHONAN DOK. V-LEGALJUMLAH PERMOHONA...   \n",
      "Auditi                              Jumlah PermohonanJumlah PermohonanJumlah Permo...   \n",
      "CV SAYAP RAJAWALI PERKASA                                                           1   \n",
      "CV SINAR BORNEO ABADI                                                             574   \n",
      "CV Sayap Rajawali Perkasa                                                       11122   \n",
      "CV Sinar Borneo Abadi                                                       487611610   \n",
      "CV Sumber Mandiri ABadi                                                             4   \n",
      "CV Sumber Mandiri Abadi                                                           136   \n",
      "JUMLAH TIDAK MEMENUHI                                                               0   \n",
      "NIHIL                                                                               –   \n",
      "PT DASA INTIGA                                                                    463   \n",
      "PT GEMILANG ALAM SEKAYAM                                                   1551653111   \n",
      "PT KARANGAN USAHA SEJAHTERA                                                   2316112   \n",
      "PT NAGABHUANA ANEKA PIRANTI                                                    212214   \n",
      "PT Nagabhuana Aneka Piranti                                                       148   \n",
      "PT Nagahbuana Aneka Piranti                                                        21   \n",
      "PT OBOR GREEN ENERGY TECHNOLOGY                                                   135   \n",
      "PT Obor Green Energy Technology                                                  2352   \n",
      "PT PANCA ARAS AKSELERASI TOV                                                   129122   \n",
      "PT Panca Aras Akselerasi Tov                                                  1221411   \n",
      "PT Sumber Mandiri Ababdi                                                            7   \n",
      "PT TAIYOUNG ENGREEN                                             111218141423251071915   \n",
      "PT Taiyoung Engreen                                                     9171915261632   \n",
      "PT Tulen Jayamas Timber Industries                                               1666   \n",
      "\n",
      "                                                                  Verifikasi Memenuhi  \n",
      "Auditi                                                                                 \n",
      "AUDITEE                             HASIL VERIFIKASIHASIL VERIFIKASIHASIL VERIFIKA...  \n",
      "Auditi                              Verifikasi MemenuhiVerifikasi MemenuhiVerifika...  \n",
      "CV SAYAP RAJAWALI PERKASA                                                           1  \n",
      "CV SINAR BORNEO ABADI                                                             574  \n",
      "CV Sayap Rajawali Perkasa                                                       11122  \n",
      "CV Sinar Borneo Abadi                                                       487611610  \n",
      "CV Sumber Mandiri ABadi                                                             4  \n",
      "CV Sumber Mandiri Abadi                                                           136  \n",
      "JUMLAH TIDAK MEMENUHI                                                               0  \n",
      "NIHIL                                                                               –  \n",
      "PT DASA INTIGA                                                                    463  \n",
      "PT GEMILANG ALAM SEKAYAM                                                   1551653111  \n",
      "PT KARANGAN USAHA SEJAHTERA                                                   2316112  \n",
      "PT NAGABHUANA ANEKA PIRANTI                                                    212214  \n",
      "PT Nagabhuana Aneka Piranti                                                       148  \n",
      "PT Nagahbuana Aneka Piranti                                                        21  \n",
      "PT OBOR GREEN ENERGY TECHNOLOGY                                                   135  \n",
      "PT Obor Green Energy Technology                                                  2352  \n",
      "PT PANCA ARAS AKSELERASI TOV                                                   129122  \n",
      "PT Panca Aras Akselerasi Tov                                                  1121411  \n",
      "PT Sumber Mandiri Ababdi                                                            7  \n",
      "PT TAIYOUNG ENGREEN                                             111218141423251071915  \n",
      "PT Taiyoung Engreen                                                     9171915261632  \n",
      "PT Tulen Jayamas Timber Industries                                               1666  \n"
     ]
    }
   ],
   "source": [
    "# grouping by company name and sum the results\n",
    "grouped_df = df_total.groupby('Auditi').sum()\n",
    "\n",
    "#print the result\n",
    "print(grouped_df)"
   ]
  },
  {
   "cell_type": "code",
   "execution_count": null,
   "metadata": {},
   "outputs": [],
   "source": [
    "# Save the dataframe to an Excel file\n",
    "df.to_excel('PT._Borneo_Wanajaya_Indonesia(SVLK)Exporters_Kayu_KalTeng.xlsx', index=False)"
   ]
  }
 ],
 "metadata": {
  "kernelspec": {
   "display_name": "base",
   "language": "python",
   "name": "python3"
  },
  "language_info": {
   "codemirror_mode": {
    "name": "ipython",
    "version": 3
   },
   "file_extension": ".py",
   "mimetype": "text/x-python",
   "name": "python",
   "nbconvert_exporter": "python",
   "pygments_lexer": "ipython3",
   "version": "3.9.13 (main, Aug 25 2022, 23:51:50) [MSC v.1916 64 bit (AMD64)]"
  },
  "orig_nbformat": 4,
  "vscode": {
   "interpreter": {
    "hash": "03c160504a0a803896b6533d2455b6707a3f9f72631bda0d6a40ef0b6470a136"
   }
  }
 },
 "nbformat": 4,
 "nbformat_minor": 2
}
